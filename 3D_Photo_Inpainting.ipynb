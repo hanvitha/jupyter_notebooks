{
 "cells": [
  {
   "cell_type": "markdown",
   "metadata": {
    "colab_type": "text",
    "id": "IY-s3ZpHBeAU"
   },
   "source": [
    "**[CVPR 2020] 3D Photography using Context-aware Layered Depth Inpainting**\n",
    "\n",
    "[project website](https://shihmengli.github.io/3D-Photo-Inpainting/)"
   ]
  },
  {
   "cell_type": "markdown",
   "metadata": {
    "colab_type": "text",
    "id": "LPQ0EWxgvMIc"
   },
   "source": [
    "- **Prepare environment**\n"
   ]
  },
  {
   "cell_type": "code",
   "execution_count": null,
   "metadata": {
    "colab": {
     "base_uri": "https://localhost:8080/",
     "height": 114
    },
    "colab_type": "code",
    "id": "5o-EIMeaghU0",
    "outputId": "81851177-8cf0-4bb3-bd3b-1cec332f4500"
   },
   "outputs": [
    {
     "name": "stdout",
     "output_type": "stream",
     "text": [
      "Looking in links: https://download.pytorch.org/whl/torch_stable.html\n",
      "\u001b[31mERROR: Could not find a version that satisfies the requirement torch==1.4.0+cu100 (from versions: 0.1.2, 0.1.2.post1, 0.1.2.post2, 0.4.1, 1.0.0, 1.0.1, 1.0.1.post2, 1.1.0, 1.1.0.post2, 1.2.0, 1.3.0, 1.3.0.post2, 1.3.1, 1.4.0)\u001b[0m\n",
      "\u001b[31mERROR: No matching distribution found for torch==1.4.0+cu100\u001b[0m\n",
      "Collecting opencv-python==4.2.0.32\n",
      "  Downloading opencv_python-4.2.0.32-cp37-cp37m-macosx_10_9_x86_64.whl (47.9 MB)\n",
      "\u001b[K     |████████████████████████████████| 47.9 MB 21.1 MB/s eta 0:00:01     |███████████████████▍            | 29.1 MB 22.1 MB/s eta 0:00:01     |█████████████████████████████▏  | 43.7 MB 21.1 MB/s eta 0:00:01\n",
      "\u001b[?25hRequirement already satisfied: numpy>=1.14.5 in /Library/Frameworks/Python.framework/Versions/3.7/lib/python3.7/site-packages (from opencv-python==4.2.0.32) (1.16.4)\n",
      "Installing collected packages: opencv-python\n",
      "  Attempting uninstall: opencv-python\n",
      "    Found existing installation: opencv-python 4.1.0.25\n",
      "    Uninstalling opencv-python-4.1.0.25:\n",
      "      Successfully uninstalled opencv-python-4.1.0.25\n",
      "Successfully installed opencv-python-4.2.0.32\n",
      "Collecting vispy==0.6.4\n",
      "  Downloading vispy-0.6.4-cp37-cp37m-macosx_10_6_intel.whl (2.3 MB)\n",
      "\u001b[K     |████████████████████████████████| 2.3 MB 1.0 MB/s eta 0:00:01\n",
      "\u001b[?25hRequirement already satisfied: numpy in /Library/Frameworks/Python.framework/Versions/3.7/lib/python3.7/site-packages (from vispy==0.6.4) (1.16.4)\n",
      "Collecting freetype-py\n",
      "  Downloading freetype_py-2.1.0.post1-py2.py3-none-macosx_10_6_intel.macosx_10_9_intel.macosx_10_9_x86_64.macosx_10_10_intel.macosx_10_10_x86_64.whl (1.6 MB)\n",
      "\u001b[K     |████████████████████████████████| 1.6 MB 17.1 MB/s eta 0:00:01\n",
      "\u001b[?25hInstalling collected packages: freetype-py, vispy\n",
      "Successfully installed freetype-py-2.1.0.post1 vispy-0.6.4\n",
      "Collecting moviepy==1.0.2\n",
      "  Downloading moviepy-1.0.2.tar.gz (7.8 MB)\n",
      "\u001b[K     |████████████████████████████████| 7.8 MB 3.8 MB/s eta 0:00:01     |████████████████████████████    | 6.9 MB 3.8 MB/s eta 0:00:01\n",
      "\u001b[?25hRequirement already satisfied: decorator<5.0,>=4.0.2 in /Library/Frameworks/Python.framework/Versions/3.7/lib/python3.7/site-packages (from moviepy==1.0.2) (4.4.0)\n",
      "Requirement already satisfied: tqdm<5.0,>=4.11.2 in /Library/Frameworks/Python.framework/Versions/3.7/lib/python3.7/site-packages (from moviepy==1.0.2) (4.42.0)\n",
      "Requirement already satisfied: requests<3.0,>=2.8.1 in /Library/Frameworks/Python.framework/Versions/3.7/lib/python3.7/site-packages (from moviepy==1.0.2) (2.22.0)\n",
      "Collecting proglog<=1.0.0\n",
      "  Downloading proglog-0.1.9.tar.gz (10 kB)\n",
      "Collecting numpy>=1.17.3\n",
      "  Downloading numpy-1.18.2-cp37-cp37m-macosx_10_9_x86_64.whl (15.1 MB)\n",
      "\u001b[K     |████████████████████████████████| 15.1 MB 10.1 MB/s eta 0:00:01    |▎                               | 143 kB 10.1 MB/s eta 0:00:02     |███████▋                        | 3.6 MB 10.1 MB/s eta 0:00:02     |██████████████████████████████▎ | 14.3 MB 10.1 MB/s eta 0:00:01\n",
      "\u001b[?25hCollecting imageio<3.0,>=2.5\n",
      "  Downloading imageio-2.8.0-py3-none-any.whl (3.3 MB)\n",
      "\u001b[K     |████████████████████████████████| 3.3 MB 21.2 MB/s eta 0:00:01\n",
      "\u001b[?25hCollecting imageio_ffmpeg>=0.2.0\n",
      "  Downloading imageio_ffmpeg-0.4.1-py3-none-macosx_10_9_intel.macosx_10_9_x86_64.macosx_10_10_intel.macosx_10_10_x86_64.whl (20.7 MB)\n",
      "\u001b[K     |████████████████████████████████| 20.7 MB 364 kB/s  eta 0:00:01    |███▍                            | 2.2 MB 12.5 MB/s eta 0:00:02\n",
      "\u001b[?25hRequirement already satisfied: chardet<3.1.0,>=3.0.2 in /Library/Frameworks/Python.framework/Versions/3.7/lib/python3.7/site-packages (from requests<3.0,>=2.8.1->moviepy==1.0.2) (3.0.4)\n",
      "Requirement already satisfied: idna<2.9,>=2.5 in /Library/Frameworks/Python.framework/Versions/3.7/lib/python3.7/site-packages (from requests<3.0,>=2.8.1->moviepy==1.0.2) (2.8)\n",
      "Requirement already satisfied: urllib3!=1.25.0,!=1.25.1,<1.26,>=1.21.1 in /Library/Frameworks/Python.framework/Versions/3.7/lib/python3.7/site-packages (from requests<3.0,>=2.8.1->moviepy==1.0.2) (1.25.8)\n",
      "Requirement already satisfied: certifi>=2017.4.17 in /Library/Frameworks/Python.framework/Versions/3.7/lib/python3.7/site-packages (from requests<3.0,>=2.8.1->moviepy==1.0.2) (2019.11.28)\n",
      "Requirement already satisfied: pillow in /Library/Frameworks/Python.framework/Versions/3.7/lib/python3.7/site-packages (from imageio<3.0,>=2.5->moviepy==1.0.2) (6.1.0)\n",
      "Building wheels for collected packages: moviepy, proglog\n",
      "  Building wheel for moviepy (setup.py) ... \u001b[?25ldone\n",
      "\u001b[?25h  Created wheel for moviepy: filename=moviepy-1.0.2-py3-none-any.whl size=110730 sha256=6dd1b7b9cff93bc75a6751a7bd351b5d459d16d3131ef1675c7f1122ef36452b\n",
      "  Stored in directory: /Users/hgavini/Library/Caches/pip/wheels/f0/36/f2/32c37d2b7a4f04622ccec875f71ebf5f33f892cea410f26454\n",
      "  Building wheel for proglog (setup.py) ... \u001b[?25ldone\n",
      "\u001b[?25h  Created wheel for proglog: filename=proglog-0.1.9-py3-none-any.whl size=6147 sha256=d100f83291f62b313ff5b6ebcf9b92c099a6a98a1ce28b13ba0a1fce87b0ac2e\n",
      "  Stored in directory: /Users/hgavini/Library/Caches/pip/wheels/12/36/1f/dc61e6ac10781d63cf6fa045eb09fa613a667384e12cb6e6e0\n",
      "Successfully built moviepy proglog\n",
      "Installing collected packages: proglog, numpy, imageio, imageio-ffmpeg, moviepy\n",
      "  Attempting uninstall: numpy\n",
      "    Found existing installation: numpy 1.16.4\n",
      "    Uninstalling numpy-1.16.4:\n",
      "      Successfully uninstalled numpy-1.16.4\n",
      "Successfully installed imageio-2.8.0 imageio-ffmpeg-0.4.1 moviepy-1.0.2 numpy-1.18.2 proglog-0.1.9\n",
      "Collecting transforms3d==0.3.1\n",
      "  Downloading transforms3d-0.3.1.tar.gz (62 kB)\n",
      "\u001b[K     |████████████████████████████████| 62 kB 1.7 MB/s eta 0:00:01\n",
      "\u001b[?25hBuilding wheels for collected packages: transforms3d\n",
      "  Building wheel for transforms3d (setup.py) ... \u001b[?25ldone\n",
      "\u001b[?25h  Created wheel for transforms3d: filename=transforms3d-0.3.1-py3-none-any.whl size=59373 sha256=cc1b4e36dd8c664a49b6cacca64bfe9a1e270240528b567d84322cc3eb42364d\n",
      "  Stored in directory: /Users/hgavini/Library/Caches/pip/wheels/b5/b7/93/8985551f83720ce37548a5b543c75380bb707955a9c2c5d28c\n",
      "Successfully built transforms3d\n",
      "Installing collected packages: transforms3d\n",
      "Successfully installed transforms3d-0.3.1\n",
      "Collecting networkx==2.3\n",
      "  Downloading networkx-2.3.zip (1.7 MB)\n",
      "\u001b[K     |████████████████████████████████| 1.7 MB 2.6 MB/s eta 0:00:01\n",
      "\u001b[?25hRequirement already satisfied: decorator>=4.3.0 in /Library/Frameworks/Python.framework/Versions/3.7/lib/python3.7/site-packages (from networkx==2.3) (4.4.0)\n",
      "Building wheels for collected packages: networkx\n",
      "  Building wheel for networkx (setup.py) ... \u001b[?25ldone\n",
      "\u001b[?25h  Created wheel for networkx: filename=networkx-2.3-py2.py3-none-any.whl size=1556409 sha256=0461dd30edc5b260f5e821cb2eb929d001df50fc08a0e38136b646be6afecdaa\n",
      "  Stored in directory: /Users/hgavini/Library/Caches/pip/wheels/44/e6/b8/4efaab31158e9e9ca9ed80b11f6b11130bac9a9672b3cbbeaf\n",
      "Successfully built networkx\n",
      "Installing collected packages: networkx\n",
      "Successfully installed networkx-2.3\n",
      "Password:"
     ]
    }
   ],
   "source": [
    "!pip3 install torch==1.4.0+cu100 torchvision==0.5.0+cu100 -f https://download.pytorch.org/whl/torch_stable.html\n",
    "!pip3 install opencv-python==4.2.0.32\n",
    "!pip3 install vispy==0.6.4\n",
    "!pip3 install moviepy==1.0.2\n",
    "!pip3 install transforms3d==0.3.1\n",
    "!pip3 install networkx==2.3\n",
    "!sudo apt install sed"
   ]
  },
  {
   "cell_type": "markdown",
   "metadata": {
    "colab_type": "text",
    "id": "c-g7AeLMvY0R"
   },
   "source": [
    "- **Download script and pretrained model**\n"
   ]
  },
  {
   "cell_type": "code",
   "execution_count": 0,
   "metadata": {
    "colab": {},
    "colab_type": "code",
    "id": "cOFIBkWrBlNM"
   },
   "outputs": [],
   "source": [
    "%cd /content/\n",
    "!git clone https://github.com/vt-vl-lab/3d-photo-inpainting.git\n",
    "%cd 3d-photo-inpainting\n",
    "!sh download.sh"
   ]
  },
  {
   "cell_type": "markdown",
   "metadata": {
    "colab_type": "text",
    "id": "D_Fg_aMeDnmd"
   },
   "source": [
    "- **Switch off off-screen rendering**"
   ]
  },
  {
   "cell_type": "code",
   "execution_count": 0,
   "metadata": {
    "colab": {},
    "colab_type": "code",
    "id": "S9TmdOBRDXcV"
   },
   "outputs": [],
   "source": [
    "!sed -i 's/offscreen_rendering: True/offscreen_rendering: False/g' argument.yml"
   ]
  },
  {
   "cell_type": "markdown",
   "metadata": {
    "colab_type": "text",
    "id": "cCN8L7GiDpZA"
   },
   "source": [
    "- **Please upload `.jpg` files to `/content/3d-photo-inpainting-master/image/`**\n",
    "  - You can run this step multiple times to upload multiple `.jpg` files."
   ]
  },
  {
   "cell_type": "code",
   "execution_count": 0,
   "metadata": {
    "colab": {},
    "colab_type": "code",
    "id": "n-Kl6fo1oows"
   },
   "outputs": [],
   "source": [
    "%cd image\n",
    "from google.colab import files\n",
    "uploaded = files.upload()\n",
    "for fn in uploaded.keys():\n",
    "  print('User uploaded file \"{name}\" with length {length} bytes'.format(\n",
    "      name=fn, length=len(uploaded[fn])))\n",
    "%cd .."
   ]
  },
  {
   "cell_type": "markdown",
   "metadata": {
    "colab_type": "text",
    "id": "wyLFopwVDzUg"
   },
   "source": [
    "- **Execute the 3D Photo Inpainting**\n",
    "  - Note: The 3D photo generation process usually takes about 2-3 minutes or more depending on the available computing resources."
   ]
  },
  {
   "cell_type": "code",
   "execution_count": 0,
   "metadata": {
    "colab": {},
    "colab_type": "code",
    "id": "i5-MWEjfBjYx"
   },
   "outputs": [],
   "source": [
    "!python main.py --config argument.yml"
   ]
  },
  {
   "cell_type": "markdown",
   "metadata": {
    "colab_type": "text",
    "id": "wPvkMT0msIJB"
   },
   "source": [
    "- **The results are stored in the following directories**\n",
    "  - Corresponding depth map estimated by [MiDaS](https://github.com/intel-isl/MiDaS.git) \n",
    "      - E.g. ```/content/3d-photo-inpainting/depth/moon.npy```\n",
    "  - Inpainted 3D mesh\n",
    "      - E.g. ```/content/3d-photo-inpainting/mesh/moon.ply```\n",
    "  - Rendered videos with zoom-in motion\n",
    "      - E.g. ```/content/3d-photo-inpainting/video/moon_zoom-in.mp4```\n",
    "  - Rendered videos with swing motion\n",
    "      - E.g. ```/content/3d-photo-inpainting/video/moon_swing.mp4```\n",
    "  - Rendered videos with circle motion\n",
    "      - E.g. ```/content/3d-photo-inpainting/video/moon_circle.mp4```\n",
    "  \n",
    "    ![](https://drive.google.com/uc?id=1xBiZAeGfhsoAsG08N5UM8-f993p0G5HF)"
   ]
  }
 ],
 "metadata": {
  "accelerator": "GPU",
  "colab": {
   "collapsed_sections": [],
   "name": "3D-Photo-Inpainting.ipynb",
   "provenance": [],
   "toc_visible": true
  },
  "kernelspec": {
   "display_name": "Python 3",
   "language": "python",
   "name": "python3"
  },
  "language_info": {
   "codemirror_mode": {
    "name": "ipython",
    "version": 3
   },
   "file_extension": ".py",
   "mimetype": "text/x-python",
   "name": "python",
   "nbconvert_exporter": "python",
   "pygments_lexer": "ipython3",
   "version": "3.7.4"
  }
 },
 "nbformat": 4,
 "nbformat_minor": 1
}
